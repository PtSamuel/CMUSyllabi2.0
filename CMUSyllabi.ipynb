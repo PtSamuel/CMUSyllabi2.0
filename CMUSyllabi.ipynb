{
 "cells": [
  {
   "cell_type": "code",
   "execution_count": 138,
   "id": "c55ee67d-f297-4eee-8dcf-deaea04109e2",
   "metadata": {},
   "outputs": [],
   "source": [
    "import requests\n",
    "from bs4 import BeautifulSoup\n",
    "import typing"
   ]
  },
  {
   "cell_type": "code",
   "execution_count": 86,
   "id": "11986ab4-9c84-42f4-b3d2-759b3fe722a8",
   "metadata": {},
   "outputs": [],
   "source": [
    "from enum import Enum\n",
    "class Constants(Enum):\n",
    "    CMU_SYLLABUS_REGISTRY = 'https://canvas.cmu.edu/courses/sis_course_id:syllabus-registry' \n",
    "    COOKIE = {\n",
    "        'canvas_session': 'L88s0oZPvegNtlI0txEL4Q+QRmf1xZxzWYv3AKbVMBiZ8N9ZWcbIzZnuQWoBUcEELKL1zoysNBkag1Ba-UCLlnSzvOsEwdeWpPO37Y1gl37oT0FMifmjZRM6dBFbthjh9XlrFclHPYWbSDMuC8PRPQNXM2CLmg6CISd_STyDL2C6rn08tXKbeLCKh8gg-lIIf5HWpvIBAk24XQtioG4r0MGYP2gNB5nO0247PD_mtzufNjuFlbUOMaMtR-k3N-70l0aZ1z1x4aynW26enj4Y8y0-1pfoVuDEE3XaAQAdhPbYPdGIAzQiClBwCx19hCjSQ4seWs091TR9wv6BDbAQZBonI1KL4Lm_zt7vkCBNehWQhfcst4e--wsMINxSxbwNh47Z2FHu3xldcIu3TVjLa56jNilLwni9ftqMRA1OhfNCdHi9XwJ5fvfWukCCdVRMjjyuJT_uBU6IDQ61J25iQqgjNd1ud58eJw1IheM7untH8_44AFjIsCrmN24LFOwAEIvqzENFHLsw4ANER2O0LKUP_vPl2403y3uuuAQo2j5L-L8-zPfnOsAYRBYsxXPGCHnLZHChr1yHAxOnqAmAb8xbt2T-fKyBxDWjEpw1BgL_GokbZB16Zt3BF1Cadg0sc4VUemaNXUPtzQVmAACUuxaLWGRCkb1bgPLDnf0bMMsNkgVxEkL-cCgrNnjArjmRkROucKf6wP6DMSi2HdW1esYPffOZoIyHEUqi4aTaawHysVVmymEkgqr1cbJ7KRx83kYQXif6zuBJEWd9kaemA6PiTzXa9mBU_LPUlldnVKjx50hIS0fSXB1tMWsh9OJOZIziJXs6wzknclEdejDRZndyld-aTLOLbElVKIT4l2zDg.uPhGgHIPBeqXNvHKk8O0Hyo10gk.Z1a-QQ'\n",
    "    }"
   ]
  },
  {
   "cell_type": "code",
   "execution_count": 146,
   "id": "08b29076-a5a3-4fb7-8db7-572b23dc407e",
   "metadata": {},
   "outputs": [],
   "source": [
    "def get_and_unwrap(*args, **kwargs) -> BeautifulSoup:\n",
    "    response = requests.get(*args, **kwargs)\n",
    "    assert response.status_code == 200\n",
    "    return BeautifulSoup(response.text, 'html.parser')"
   ]
  },
  {
   "cell_type": "code",
   "execution_count": 141,
   "id": "ec8ef698-ddde-42e5-bb07-4a6f95c774b4",
   "metadata": {
    "scrolled": true
   },
   "outputs": [],
   "source": [
    "soup = get_and_unwrap(Constants.CMU_SYLLABUS_REGISTRY.value)"
   ]
  },
  {
   "cell_type": "code",
   "execution_count": 142,
   "id": "07975a5e-0fa0-4cf6-83e7-b89d2eff3506",
   "metadata": {},
   "outputs": [],
   "source": [
    "semester = soup.find(attrs={\"aria-label\": \"Fall 2024 (F24)\"})\n",
    "semesters = soup.select('div[aria-label]')\n",
    "# for semester in semesters:\n",
    "#     print(semester.get('aria-label'))"
   ]
  },
  {
   "cell_type": "code",
   "execution_count": 143,
   "id": "59c2026d-4007-4349-94d8-dbf99a6af498",
   "metadata": {},
   "outputs": [],
   "source": [
    "departments = semester.select('div.content > ul.context_module_items > li[id^=\"context_module_item_\"] > div.ig-row > div.ig-info > div.module-item-title > span.item_name')"
   ]
  },
  {
   "cell_type": "code",
   "execution_count": 144,
   "id": "7c2de73e-0ac9-4425-bf5d-5ea22feba32c",
   "metadata": {},
   "outputs": [],
   "source": [
    "def select_unique(html, *args, **kwargs):\n",
    "    result = html.select(*args, **kwargs)\n",
    "    assert len(result) == 1, 'Selection is not unique!'\n",
    "    return result[0]"
   ]
  },
  {
   "cell_type": "code",
   "execution_count": 152,
   "id": "026b2a43-e63a-421a-b316-926f99879275",
   "metadata": {},
   "outputs": [],
   "source": [
    "class Course:\n",
    "    def __init__(self, html):\n",
    "        self.html = html\n",
    "        self.a = select_unique(self.html, 'a.ig-title')\n",
    "    @property \n",
    "    def name(self):\n",
    "        return self.a.get('title')\n",
    "    @property\n",
    "    def href(self):\n",
    "        return self.a.get('href')\n",
    "        \n",
    "class Department:\n",
    "    def __init__(self, html):\n",
    "        self.html = html\n",
    "        self.a = select_unique(self.html, 'a.external_url_link')\n",
    "    @property \n",
    "    def name(self):\n",
    "        return self.a.get('title')\n",
    "    @property\n",
    "    def href(self):\n",
    "        return self.a.get('href')\n",
    "    @staticmethod\n",
    "    def get_category(html, cat: str):\n",
    "        category = select_unique(html, f'div[aria-label=\"{cat}\"]')\n",
    "        courses = category.select('div.content > ul.context_module_items > li[id^=\"context_module_item_\"] > div.ig-row > div.ig-info > div.module-item-title > span.item_name')\n",
    "        return courses\n",
    "    def get(self):\n",
    "        html = get_and_unwrap(self.href, cookies=Constants.COOKIE.value)\n",
    "        courses = self.get_category(html, \"Available Syllabi\")\n",
    "        self.courses = [Course(c) for c in courses]\n",
    "\n",
    "class Semester:\n",
    "    def __init__(self, html):\n",
    "        self.html = html\n",
    "        departments = semester.select('div.content > ul.context_module_items > li[id^=\"context_module_item_\"] > div.ig-row > div.ig-info > div.module-item-title > span.item_name')\n",
    "        self.departments = [Department(d) for d in departments]\n",
    "    @property \n",
    "    def name(self):\n",
    "        return self.html.get('aria-label')\n",
    "\n",
    "class SyllabusRegistry:\n",
    "    def __init__(self):\n",
    "        html = get_and_unwrap(Constants.CMU_SYLLABUS_REGISTRY.value)\n",
    "        self.html = html\n",
    "        semesters = html.select('div[aria-label^=\"Fall\"], div[aria-label^=\"String\"], div[aria-label^=\"Summer\"]')\n",
    "        self.semesters = [Semester(s) for s in semesters]"
   ]
  },
  {
   "cell_type": "code",
   "execution_count": 41,
   "id": "744f1cdf-b455-4077-a9db-dd80b3ec0797",
   "metadata": {},
   "outputs": [],
   "source": [
    "sr = SyllabusRegistry()"
   ]
  },
  {
   "cell_type": "code",
   "execution_count": 153,
   "id": "aa1b7d74-182f-40d3-a508-92096812e29c",
   "metadata": {},
   "outputs": [],
   "source": [
    "s = Semester(sr.semesters[0].html)"
   ]
  },
  {
   "cell_type": "code",
   "execution_count": 157,
   "id": "96cefa0c-ca44-463d-a49d-2a64f260f6ae",
   "metadata": {},
   "outputs": [],
   "source": [
    "s.departments[0].get()"
   ]
  },
  {
   "cell_type": "code",
   "execution_count": 158,
   "id": "748879a2-270c-4766-bd79-7304c33d2aae",
   "metadata": {},
   "outputs": [
    {
     "data": {
      "text/plain": [
       "'48095-A: Spatial Concepts for Non-Architecture Majors'"
      ]
     },
     "execution_count": 158,
     "metadata": {},
     "output_type": "execute_result"
    }
   ],
   "source": [
    "s.departments[0].courses[0].name"
   ]
  },
  {
   "cell_type": "code",
   "execution_count": 72,
   "id": "383e8080-557c-4df9-8bfd-e2fbf402c6f0",
   "metadata": {},
   "outputs": [],
   "source": []
  }
 ],
 "metadata": {
  "kernelspec": {
   "display_name": "Python 3 (ipykernel)",
   "language": "python",
   "name": "python3"
  },
  "language_info": {
   "codemirror_mode": {
    "name": "ipython",
    "version": 3
   },
   "file_extension": ".py",
   "mimetype": "text/x-python",
   "name": "python",
   "nbconvert_exporter": "python",
   "pygments_lexer": "ipython3",
   "version": "3.11.5"
  }
 },
 "nbformat": 4,
 "nbformat_minor": 5
}
