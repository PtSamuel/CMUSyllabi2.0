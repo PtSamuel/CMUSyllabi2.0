{
 "cells": [
  {
   "cell_type": "code",
   "execution_count": 2,
   "id": "026b2a43-e63a-421a-b316-926f99879275",
   "metadata": {},
   "outputs": [],
   "source": [
    "from Crawler.Utils import get_and_unwrap\n",
    "from Crawler.Data import SyllabusRegistry\n",
    "from Crawler.Constants import Constants"
   ]
  },
  {
   "cell_type": "code",
   "execution_count": 3,
   "id": "4e070287",
   "metadata": {},
   "outputs": [],
   "source": [
    "html = get_and_unwrap(Constants.CMU_SYLLABUS_REGISTRY_URL.value)"
   ]
  },
  {
   "cell_type": "code",
   "execution_count": null,
   "id": "744f1cdf-b455-4077-a9db-dd80b3ec0797",
   "metadata": {},
   "outputs": [],
   "source": [
    "sr = SyllabusRegistry(html=html)\n",
    "\n",
    "f24 = sr.semesters[0]\n",
    "f24_archi = f24.departments[0]\n",
    "f24_archi.get()\n",
    "f24_archi_courses = f24_archi.courses\n",
    "\n",
    "f24_archi_courses['Available Syllabi'][3].href\n",
    "f24_archi_courses['Available Syllabi'][3].get()\n",
    "f24_archi_courses['Available Syllabi'][3].html"
   ]
  },
  {
   "cell_type": "markdown",
   "id": "1347800a",
   "metadata": {},
   "source": [
    "## Sqlite"
   ]
  },
  {
   "cell_type": "code",
   "execution_count": 3,
   "id": "143f5a5a",
   "metadata": {},
   "outputs": [
    {
     "ename": "NameError",
     "evalue": "name 'sr' is not defined",
     "output_type": "error",
     "traceback": [
      "\u001b[1;31m---------------------------------------------------------------------------\u001b[0m",
      "\u001b[1;31mNameError\u001b[0m                                 Traceback (most recent call last)",
      "Cell \u001b[1;32mIn[3], line 2\u001b[0m\n\u001b[0;32m      1\u001b[0m \u001b[38;5;28;01mimport\u001b[39;00m \u001b[38;5;21;01mpickle\u001b[39;00m\n\u001b[1;32m----> 2\u001b[0m pickle_data \u001b[38;5;241m=\u001b[39m pickle\u001b[38;5;241m.\u001b[39mdumps(sr)\n\u001b[0;32m      3\u001b[0m loaded_sr \u001b[38;5;241m=\u001b[39m pickle\u001b[38;5;241m.\u001b[39mloads(pickle_data) \n\u001b[0;32m      4\u001b[0m loaded_sr\u001b[38;5;241m.\u001b[39msemesters[\u001b[38;5;241m0\u001b[39m]\u001b[38;5;241m.\u001b[39mdepartments[\u001b[38;5;241m0\u001b[39m]\u001b[38;5;241m.\u001b[39mcourses[\u001b[38;5;124m'\u001b[39m\u001b[38;5;124mAvailable Syllabi\u001b[39m\u001b[38;5;124m'\u001b[39m][\u001b[38;5;241m3\u001b[39m]\u001b[38;5;241m.\u001b[39marchive\n",
      "\u001b[1;31mNameError\u001b[0m: name 'sr' is not defined"
     ]
    }
   ],
   "source": [
    "import pickle\n",
    "pickle_data = pickle.dumps(sr)\n",
    "loaded_sr = pickle.loads(pickle_data) \n",
    "loaded_sr.semesters[0].departments[0].courses['Available Syllabi'][3].archive"
   ]
  },
  {
   "cell_type": "code",
   "execution_count": 1,
   "id": "46f0ff17",
   "metadata": {},
   "outputs": [],
   "source": [
    "import sqlite3\n",
    "from Crawler.Data import ArchivedSemester, PDF, Webpage\n",
    "from Crawler.Constants import Constants\n",
    "\n",
    "conn = sqlite3.connect('syllabus_registry.db')\n",
    "cursor = conn.cursor()"
   ]
  },
  {
   "cell_type": "code",
   "execution_count": 2,
   "id": "51d07785",
   "metadata": {},
   "outputs": [
    {
     "data": {
      "text/plain": [
       "<sqlite3.Cursor at 0x1569ba3e340>"
      ]
     },
     "execution_count": 2,
     "metadata": {},
     "output_type": "execute_result"
    }
   ],
   "source": [
    "create_database_script = f'''\n",
    "    CREATE TABLE semesters (\n",
    "        semester_id INTEGER PRIMARY KEY AUTOINCREMENT, \n",
    "        name TEXT NOT NULL, \n",
    "        acronym TEXT, \n",
    "        href TEXT, \n",
    "        archived INTEGER NOT NULL\n",
    "    );\n",
    "    PRAGMA foreign_keys = ON;\n",
    "    CREATE TABLE departments (\n",
    "        department_id INTEGER PRIMARY KEY AUTOINCREMENT, \n",
    "        name TEXT NOT NULL, \n",
    "        acronym TEXT, \n",
    "        href TEXT NOT NULL, \n",
    "        semester_id INTEGER, \n",
    "        FOREIGN KEY (semester_id) REFERENCES semesters (semester_id) ON DELETE CASCADE\n",
    "    );\n",
    "    CREATE TABLE courses (\n",
    "        course_id INTEGER PRIMARY KEY AUTOINCREMENT, \n",
    "        name TEXT NOT NULL, \n",
    "        acronym TEXT, \n",
    "        href TEXT NOT NULL, \n",
    "        department_id INTEGER NOT NULL, \n",
    "        category TEXT NOT NULL CHECK(category in ({', '.join(\"'\" + s + \"'\" for s in Constants.COURSE_CATEGORIES.value)})),\n",
    "        syllabus_category TEXT CHECK(syllabus_category in ('PDF', 'Webpage')), \n",
    "        syllabus_href TEXT, \n",
    "        syllabus_name TEXT, \n",
    "        FOREIGN KEY (department_id) REFERENCES departments (department_id) ON DELETE CASCADE\n",
    "    );\n",
    "'''\n",
    "cursor.executescript(create_database_script)"
   ]
  },
  {
   "cell_type": "code",
   "execution_count": 4,
   "id": "f637c76d",
   "metadata": {},
   "outputs": [],
   "source": [
    "cursor.execute(\"SELECT name, sql FROM sqlite_master WHERE type='table';\")\n",
    "tables = cursor.fetchall()"
   ]
  },
  {
   "cell_type": "code",
   "execution_count": 5,
   "id": "1306df4a",
   "metadata": {},
   "outputs": [
    {
     "data": {
      "text/plain": [
       "[('semesters',\n",
       "  'CREATE TABLE semesters (\\n        semester_id INTEGER PRIMARY KEY AUTOINCREMENT, \\n        name TEXT NOT NULL, \\n        acronym TEXT, \\n        href TEXT, \\n        archived INTEGER NOT NULL\\n    )'),\n",
       " ('sqlite_sequence', 'CREATE TABLE sqlite_sequence(name,seq)'),\n",
       " ('departments',\n",
       "  'CREATE TABLE departments (\\n        department_id INTEGER PRIMARY KEY AUTOINCREMENT, \\n        name TEXT NOT NULL, \\n        acronym TEXT, \\n        href TEXT NOT NULL, \\n        semester_id INTEGER, \\n        FOREIGN KEY (semester_id) REFERENCES semesters (semester_id) ON DELETE CASCADE\\n    )'),\n",
       " ('courses',\n",
       "  \"CREATE TABLE courses (\\n        course_id INTEGER PRIMARY KEY AUTOINCREMENT, \\n        name TEXT NOT NULL, \\n        acronym TEXT, \\n        href TEXT NOT NULL, \\n        department_id INTEGER NOT NULL, \\n        category TEXT NOT NULL CHECK(category in ('Available Syllabi', 'Unavailable Syllabi', 'Individualized Experiences')),\\n        syllabus_category TEXT CHECK(syllabus_category in ('PDF', 'Webpage')), \\n        syllabus_href TEXT, \\n        syllabus_name TEXT, \\n        FOREIGN KEY (department_id) REFERENCES departments (department_id) ON DELETE CASCADE\\n    )\")]"
      ]
     },
     "execution_count": 5,
     "metadata": {},
     "output_type": "execute_result"
    }
   ],
   "source": [
    "tables"
   ]
  },
  {
   "cell_type": "code",
   "execution_count": 7,
   "id": "96f81e67",
   "metadata": {},
   "outputs": [],
   "source": [
    "import pickle\n",
    "with open('syllabus_registry.pkl', 'rb') as f:\n",
    "    sr = pickle.load(f) "
   ]
  },
  {
   "cell_type": "code",
   "execution_count": null,
   "id": "51dcc09f",
   "metadata": {},
   "outputs": [],
   "source": [
    "for s in sr.semesters:\n",
    "    cursor.execute('''\n",
    "        INSERT INTO semesters (name, acronym, href, archived) values (?, ?, ?, ?)\n",
    "    ''', (s.name, s.acronym, s.href if isinstance(s, ArchivedSemester) else None, int(isinstance(s, ArchivedSemester))))\n",
    "    conn.commit()\n",
    "    semester_id = cursor.lastrowid\n",
    "    for d in s.departments:\n",
    "        cursor.execute('''\n",
    "            INSERT INTO departments (name, acronym, href, semester_id) values (?, ?, ?, ?)\n",
    "        ''', (d.name, d.acronym, d.href, semester_id))\n",
    "        conn.commit()\n",
    "        department_id = cursor.lastrowid\n",
    "        if d.processed:\n",
    "            assert d.courses is not None\n",
    "            for c in d.courses['Available Syllabi']:\n",
    "                if c.processed:\n",
    "                    archive = c.archive\n",
    "                    if archive is not None:\n",
    "                        # If processing is unsuccessful, do not insert.\n",
    "                        if isinstance(archive, PDF):\n",
    "                            syllabus_category = 'PDF'\n",
    "                            syllabus_href = archive.href\n",
    "                            syllabus_name = archive.name\n",
    "                        elif isinstance(archive, Webpage):\n",
    "                            syllabus_category = 'Webpage'\n",
    "                            syllabus_href = archive.href\n",
    "                            syllabus_name = None\n",
    "                        else:\n",
    "                            # Unreachable.\n",
    "                            breakpoint()\n",
    "                        cursor.execute('''\n",
    "                            INSERT INTO courses (name, acronym, href, department_id, category, syllabus_category, syllabus_href, syllabus_name) values (?, ?, ?, ?, ?, ?, ?, ?)\n",
    "                        ''', (c.name, c.acronym, c.href, department_id, 'Available Syllabi', syllabus_category, syllabus_href, syllabus_name))\n",
    "                        conn.commit()"
   ]
  },
  {
   "cell_type": "code",
   "execution_count": null,
   "id": "6a1adb69",
   "metadata": {},
   "outputs": [
    {
     "data": {
      "text/plain": [
       "<bound method Course.analyze of 60105-A: Cultural History of the Visual Arts>"
      ]
     },
     "execution_count": 29,
     "metadata": {},
     "output_type": "execute_result"
    }
   ],
   "source": [
    "sr.semesters[0].departments[1].courses['Available Syllabi'][0]"
   ]
  }
 ],
 "metadata": {
  "kernelspec": {
   "display_name": "base",
   "language": "python",
   "name": "python3"
  },
  "language_info": {
   "codemirror_mode": {
    "name": "ipython",
    "version": 3
   },
   "file_extension": ".py",
   "mimetype": "text/x-python",
   "name": "python",
   "nbconvert_exporter": "python",
   "pygments_lexer": "ipython3",
   "version": "3.11.5"
  }
 },
 "nbformat": 4,
 "nbformat_minor": 5
}
