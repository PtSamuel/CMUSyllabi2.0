{
 "cells": [
  {
   "cell_type": "code",
   "execution_count": null,
   "id": "026b2a43-e63a-421a-b316-926f99879275",
   "metadata": {},
   "outputs": [],
   "source": [
    "from Crawler.Utils import get_and_unwrap\n",
    "from Crawler.Data import SyllabusRegistry\n",
    "from Crawler.Constants import Constants"
   ]
  },
  {
   "cell_type": "code",
   "execution_count": null,
   "id": "4e070287",
   "metadata": {},
   "outputs": [],
   "source": [
    "html = get_and_unwrap(Constants.CMU_SYLLABUS_REGISTRY_URL.value)"
   ]
  },
  {
   "cell_type": "code",
   "execution_count": null,
   "id": "744f1cdf-b455-4077-a9db-dd80b3ec0797",
   "metadata": {},
   "outputs": [],
   "source": [
    "sr = SyllabusRegistry(html=html)\n",
    "\n",
    "f24 = sr.semesters[0]\n",
    "f24_archi = f24.departments[0]\n",
    "f24_archi.get()\n",
    "f24_archi_courses = f24_archi.courses\n",
    "\n",
    "f24_archi_courses['Available Syllabi'][3].href\n",
    "f24_archi_courses['Available Syllabi'][3].get()\n",
    "f24_archi_courses['Available Syllabi'][3].html"
   ]
  },
  {
   "cell_type": "markdown",
   "id": "1347800a",
   "metadata": {},
   "source": [
    "## Sqlite"
   ]
  },
  {
   "cell_type": "code",
   "execution_count": null,
   "id": "96f81e67",
   "metadata": {},
   "outputs": [],
   "source": [
    "import pickle\n",
    "with open('syllabus_registry.pkl', 'rb') as f:\n",
    "    sr = pickle.load(f) "
   ]
  },
  {
   "cell_type": "code",
   "execution_count": null,
   "id": "6a1adb69",
   "metadata": {},
   "outputs": [],
   "source": [
    "import requests\n",
    "from Crawler.Constants import Constants \n",
    "response = requests.get('https://canvas.cmu.edu/courses/40989/modules/items/5906263', cookies=Constants.COOKIE.value)\n",
    "response = requests.get('https://canvas.cmu.edu/courses/5128', cookies=Constants.COOKIE.value)\n",
    "response = requests.get('https://canvas.cmu.edu/courses/3760', cookies=Constants.COOKIE.value)"
   ]
  }
 ],
 "metadata": {
  "kernelspec": {
   "display_name": "base",
   "language": "python",
   "name": "python3"
  },
  "language_info": {
   "codemirror_mode": {
    "name": "ipython",
    "version": 3
   },
   "file_extension": ".py",
   "mimetype": "text/x-python",
   "name": "python",
   "nbconvert_exporter": "python",
   "pygments_lexer": "ipython3",
   "version": "3.11.5"
  }
 },
 "nbformat": 4,
 "nbformat_minor": 5
}
