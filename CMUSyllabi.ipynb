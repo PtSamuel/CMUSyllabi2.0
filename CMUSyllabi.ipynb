{
 "cells": [
  {
   "cell_type": "code",
   "execution_count": 1,
   "id": "026b2a43-e63a-421a-b316-926f99879275",
   "metadata": {},
   "outputs": [],
   "source": [
    "from Crawler.Utils import get_and_unwrap\n",
    "from Crawler.Data import SyllabusRegistry\n",
    "from Crawler.Constants import Constants\n",
    "\n",
    "from selenium import webdriver\n",
    "from selenium.webdriver.chrome.options import Options"
   ]
  },
  {
   "cell_type": "code",
   "execution_count": 2,
   "id": "4e070287",
   "metadata": {},
   "outputs": [],
   "source": [
    "html = get_and_unwrap(Constants.CMU_SYLLABUS_REGISTRY_URL.value)"
   ]
  },
  {
   "cell_type": "code",
   "execution_count": null,
   "id": "744f1cdf-b455-4077-a9db-dd80b3ec0797",
   "metadata": {},
   "outputs": [],
   "source": [
    "sr = SyllabusRegistry(html=html)\n",
    "\n",
    "f24 = sr.semesters[0]\n",
    "f24_archi = f24.departments[0]\n",
    "f24_archi.get()\n",
    "f24_archi_courses = f24_archi.courses\n",
    "\n",
    "f24_archi_courses['Available Syllabi'][3].href\n",
    "f24_archi_courses['Available Syllabi'][3].get()\n",
    "f24_archi_courses['Available Syllabi'][3].result"
   ]
  },
  {
   "cell_type": "code",
   "execution_count": null,
   "id": "748879a2-270c-4766-bd79-7304c33d2aae",
   "metadata": {},
   "outputs": [],
   "source": [
    "f24_cs = f24.departments[49]\n",
    "f24_cs.get()\n",
    "\n",
    "for course in f24_cs.courses['Available Syllabi']:\n",
    "    course.get()\n",
    "    analysis = course.analyze(course.result)\n",
    "    if analysis == None:\n",
    "        print('abnormal:', course.href)\n",
    "    else:\n",
    "        print(analysis) "
   ]
  },
  {
   "cell_type": "code",
   "execution_count": null,
   "id": "85cbfa9e",
   "metadata": {},
   "outputs": [],
   "source": [
    "for semester in sr.semesters:\n",
    "    print(semester.name)\n",
    "    for department in semester.departments:\n",
    "        print(department.name)\n",
    "        department.get()\n",
    "        for course in department.courses['Available Syllabi']:\n",
    "            course.get()\n",
    "            archive = course.analyze(course.result)\n",
    "            if archive == None:\n",
    "                print('abnormal:', course.href)\n",
    "            else:\n",
    "                print(archive)"
   ]
  },
  {
   "cell_type": "code",
   "execution_count": null,
   "id": "6cb16b8a",
   "metadata": {},
   "outputs": [
    {
     "name": "stderr",
     "output_type": "stream",
     "text": [
      "Error sending stats to Plausible: error sending request for url (https://plausible.io/api/event)\n"
     ]
    }
   ],
   "source": [
    "from selenium import webdriver\n",
    "from selenium.webdriver.chrome.options import Options\n",
    "\n",
    "cookie = {\n",
    "    'canvas_session': 'fktJ3TEmxAjzF-f8_8y2tg+DZQDv4iGkjYEae63JMJoEmz6hO-fQItl1OsvSiGmjT1ouFM0ThLuSPigYE2J9owKz_aRECYZB8sqG-Ggt7hsncEjutwZZcPCm8AWQhIL9rs3yRWDuTkGmorQY2UKva1e9xHgjkDOESOIvdf5V57xGzFVYUrpHwa4NNy35yV3deXwiAqreQt26F1-hgvPLjdQf1K8MfqrLYkLSOizlQEwqNVYQ3_rVmwrOOU2ugnzQcmoiTNB8J-QQb0JM7_aeQ_g7st4z3eHf_bL5laKE0u56nTiNRar-CZDUHhRBLdwrRw12cdpwLuvgNyR-q4P3AApNiXquD2vEOJkzwOAZS4_PWU41cwlGfSXRMr-L1A_wp3Bm6e2P-nl2cGS1hg2QQMJIfMIAhBEd084r70eNZbFgmZts5vLOQzPEH3N28mSPu2Zfnu6brxNOYgio-DsWJvntTUIs37I_EJMV32nKmaaSSBcqHLilH_M2WsvjcPMHwCQS3SlTjniho0ml2IzMPw7omsGJz2ZDRFaik1KnzRFpwN-_kTeig1HTuSpXByD6eAFrCzcyXspHBj4KebA5XhWdiTw17tCxiB3zl1Dk1pA1QrbsgHEaELWV16xPuGcd-gjxKct_kOKZYWuQaDvbmb-JXOAbMhrZWRN1ZM22wDHfSrzU3TlPJICN0QWs3tPxE0F1hADC_cKI_u3IEVeDhDTSxRdjlj-Xj4zOyynYUPDLv2t9el8J-V0gcit1AfvYGS8ZOTCpojukeC32VvBQ1LkCP6C8p3AYkVYDZr0RJa6C669st5fcdAMhxIicDStOEOq4IxxoRKuoeHGWQjxrAkn3HonkTIwBK2y71Sv-K7VvsrXHzanGcSswpu7W5IlQgsiBt29ShCe0GsFymtQbzvgpRUG7vBGOkpvkCC0o4KByw.W6W1ANo3y0UU0YHPQaOUg-b51hM.Z2FvqQ'\n",
    "}\n",
    "options = Options()\n",
    "options.add_argument(\"--headless\")\n",
    "driver = webdriver.Chrome(options=options)\n",
    "driver.get('https://httpbin.org/headers')\n",
    "driver.add_cookie({\n",
    "    'name': list(cookie.keys())[0], \n",
    "    'value': list(cookie.values())[0],\n",
    "})\n",
    "driver.get('https://canvas.cmu.edu/courses/3769/modules/items/3247653')"
   ]
  }
 ],
 "metadata": {
  "kernelspec": {
   "display_name": "base",
   "language": "python",
   "name": "python3"
  },
  "language_info": {
   "codemirror_mode": {
    "name": "ipython",
    "version": 3
   },
   "file_extension": ".py",
   "mimetype": "text/x-python",
   "name": "python",
   "nbconvert_exporter": "python",
   "pygments_lexer": "ipython3",
   "version": "3.11.5"
  }
 },
 "nbformat": 4,
 "nbformat_minor": 5
}
